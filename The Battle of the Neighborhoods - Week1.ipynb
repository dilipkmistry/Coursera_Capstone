{
 "cells": [
  {
   "cell_type": "markdown",
   "metadata": {
    "collapsed": true
   },
   "source": [
    "# Capstone Project - The Battle of the Neighborhoods\n",
    "### IBM Applied Data Science Capstone"
   ]
  },
  {
   "cell_type": "markdown",
   "metadata": {},
   "source": [
    "## Opening Beverage Distribution Warehouses in the Staten Island, New York City"
   ]
  },
  {
   "cell_type": "markdown",
   "metadata": {},
   "source": [
    "**By Dilip Mistry**"
   ]
  },
  {
   "cell_type": "markdown",
   "metadata": {},
   "source": [
    "## Table of contents\n",
    "* [Introduction: Business Problem](#introduction)\n",
    "* [Data](#data)"
   ]
  },
  {
   "cell_type": "markdown",
   "metadata": {},
   "source": [
    "\n",
    "\n",
    "## Introduction: Business Problem <a name=\"introduction\"></a>"
   ]
  },
  {
   "cell_type": "markdown",
   "metadata": {},
   "source": [
    "In this project, we will try to find some optimal locations for warehouse to deliver beverages to nearby restaurants, coffee shops and bars. Specifically, this report will be targeted to stakeholders interested in opening some beverage warehouses in **Staten Island** of New York City, USA.\n",
    "\n",
    "The business problem of the project is that there are no central warehouse in the Staten Island and the distribution takes place from other boroughs of New York City. The distribution from other areas to the targeted areas of Staten Island became time consuming, inefficient and costly. Now, the client wants to open several warehouses to supply beverages to the restaurants, coffee shops and bars quickly and reduce the costs of the distribution of beverages. Therefore, the client wants to know which locations would be the best locations for his business in order to minimize the relative distance from each of the venues.\n",
    "\n",
    "This project will use some data science techniques to generate neighborhoods in the Staten Island areas based on the criteria so that the client can choose the best possible five locations for warehouses and distribute beverages to the restaurants, coffee shops and bars with efficiently and cost effectively."
   ]
  },
  {
   "cell_type": "markdown",
   "metadata": {},
   "source": [
    "## Data <a name=\"data\"></a>"
   ]
  },
  {
   "cell_type": "markdown",
   "metadata": {},
   "source": [
    "This project needs the following data to solve the problem:\n",
    "* List of neighborhoods with coordinate information in the Staten Island\n",
    "* Venue data, particularly related to restaurants, coffee shops and bars\n",
    "\n",
    "This project needs geographical data of Staten Island neighborhoods including its latitude and longitude information as well as location data describing places and venues. The data in this report obtained from https://geo.nyu.edu/catalog/nyu_2451_34572 and contained boroughs and list of neighborhoods in New York City. However, the list of neighborhoods in the Staten Island have been used in this report.The data also contains the geographical coordinates of the neighborhoods.\n",
    "\n",
    "The information regarding restaurants, coffee shops and bars in every neighborhood of Staten Island will be obtained using **Foursquare API**. The Foursquare API will provide detailed location information, including name of location, categories for the location, geographical coordinates of the location, etc. This data will be used to determine the best 5 warehouses for distributing beverages in Staten Island, NY."
   ]
  }
 ],
 "metadata": {
  "kernelspec": {
   "display_name": "Python 3",
   "language": "python",
   "name": "python3"
  },
  "language_info": {
   "codemirror_mode": {
    "name": "ipython",
    "version": 3
   },
   "file_extension": ".py",
   "mimetype": "text/x-python",
   "name": "python",
   "nbconvert_exporter": "python",
   "pygments_lexer": "ipython3",
   "version": "3.6.7"
  }
 },
 "nbformat": 4,
 "nbformat_minor": 1
}
